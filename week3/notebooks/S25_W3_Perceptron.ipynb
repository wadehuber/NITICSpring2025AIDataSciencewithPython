{
  "nbformat": 4,
  "nbformat_minor": 0,
  "metadata": {
    "colab": {
      "provenance": []
    },
    "kernelspec": {
      "name": "python3",
      "display_name": "Python 3"
    },
    "language_info": {
      "name": "python"
    }
  },
  "cells": [
    {
      "cell_type": "markdown",
      "source": [
        "# Implementing a Perceptron in Python"
      ],
      "metadata": {
        "id": "EOJjB7Dob7t-"
      }
    },
    {
      "cell_type": "markdown",
      "source": [
        "# A Perceptron\n",
        "\n",
        "This is a simple binary classifier that learns to separate data into two classes\n",
        "It finds a linear decision boundary (a line/plane/hyperplane depending on dimensions) During training, it adjusts weights and bias to minimize classification errors It can only solve linearly separable problems"
      ],
      "metadata": {
        "id": "0uptX5hZBb6b"
      }
    },
    {
      "cell_type": "code",
      "execution_count": null,
      "metadata": {
        "id": "o90hzqkNb5X-"
      },
      "outputs": [],
      "source": [
        "\n",
        "import numpy as np\n",
        "\n",
        "class Perceptron:\n",
        "    def __init__(self, learning_rate=0.01, n_iterations=1000):\n",
        "        \"\"\"\n",
        "        Initialize the perceptron with learning rate and number of iterations\n",
        "\n",
        "        Parameters:\n",
        "        learning_rate (float): How much to adjust weights on each update\n",
        "        n_iterations (int): Number of passes over the training data\n",
        "        \"\"\"\n",
        "        self.learning_rate = learning_rate  # Step size for weight updates\n",
        "        self.n_iterations = n_iterations    # Number of training passes\n",
        "        self.weights = None                 # Array of weights\n",
        "        self.bias = None                    # The bias term (integer)\n",
        "\n",
        "    def fit(self, X, y):\n",
        "        \"\"\"\n",
        "        Train the perceptron on the input data\n",
        "\n",
        "        Parameters:\n",
        "        X (array): Training data of shape (n_samples, n_features)\n",
        "        y (array): Target values of shape (n_samples,)\n",
        "        \"\"\"\n",
        "        n_samples, n_features = X.shape     # Get dimensions of input data\n",
        "\n",
        "        # Initialize weights and bias to 0's\n",
        "        self.weights = np.zeros(n_features)\n",
        "        self.bias = 0\n",
        "\n",
        "        # Training loop\n",
        "        for _ in range(self.n_iterations):\n",
        "            for idx in range(n_samples):\n",
        "                # Calculate weighted sum: dot product + bias\n",
        "                linear_output = np.dot(X[idx], self.weights) + self.bias\n",
        "                # Apply activation function\n",
        "                prediction = self.activation_function(linear_output)\n",
        "\n",
        "                # Update weights and bias if prediction is wrong\n",
        "                update = self.learning_rate * (y[idx] - prediction)\n",
        "                self.weights += update * X[idx]\n",
        "                self.bias += update\n",
        "\n",
        "    def predict(self, X):\n",
        "        \"\"\"\n",
        "        Make predictions for input data\n",
        "\n",
        "        Parameters:\n",
        "        X (array): Input data of shape (n_samples, n_features)\n",
        "\n",
        "        Returns:\n",
        "        array: Predicted values (0 or 1)\n",
        "        \"\"\"\n",
        "        linear_output = np.dot(X, self.weights) + self.bias\n",
        "        return self.activation_function(linear_output)\n",
        "\n",
        "    def activation_function(self, x):\n",
        "        \"\"\"\n",
        "        Simple step function as activation function\n",
        "\n",
        "        Parameters:\n",
        "        x (float): Input value\n",
        "\n",
        "        Returns:\n",
        "        int: 1 if input >= 0, else 0\n",
        "        \"\"\"\n",
        "        return np.where(x >= 0, 1, 0)\n"
      ]
    },
    {
      "cell_type": "markdown",
      "source": [
        "## Testing\n",
        "\n",
        "### AND Gate"
      ],
      "metadata": {
        "id": "n-e7G3BSzcjI"
      }
    },
    {
      "cell_type": "code",
      "source": [
        "# X - Features\n",
        "X = np.array([\n",
        "    [0, 0],\n",
        "    [0, 1],\n",
        "    [1, 0],\n",
        "    [1, 1]\n",
        "])\n",
        "# Targets: AND gate labels\n",
        "y = np.array([0, 0, 0, 1])\n",
        "\n",
        "# Create and train the perceptron\n",
        "perceptron = Perceptron(learning_rate=0.1, n_iterations=100)\n",
        "perceptron.fit(X, y)\n",
        "\n",
        "# Make predictions\n",
        "predictions = perceptron.predict(X)\n",
        "print(\"Predictions:\", predictions)"
      ],
      "metadata": {
        "colab": {
          "base_uri": "https://localhost:8080/"
        },
        "id": "Ww1L1X9qfiW0",
        "outputId": "7ac1c302-0ff9-40ad-837f-3d0f237ad236"
      },
      "execution_count": null,
      "outputs": [
        {
          "output_type": "stream",
          "name": "stdout",
          "text": [
            "Predictions: [0 0 0 1]\n"
          ]
        }
      ]
    },
    {
      "cell_type": "markdown",
      "source": [
        "### OR Gate"
      ],
      "metadata": {
        "id": "8d0psjVwzhTg"
      }
    },
    {
      "cell_type": "code",
      "source": [
        "# X - Features\n",
        "X = np.array([\n",
        "    [0, 0],\n",
        "    [0, 1],\n",
        "    [1, 0],\n",
        "    [1, 1]\n",
        "])\n",
        "# Targets: OR gate labels\n",
        "y = np.array([0, 1, 1, 1])\n",
        "\n",
        "# Create and train the perceptron\n",
        "perceptron = Perceptron(learning_rate=0.1, n_iterations=100)\n",
        "perceptron.fit(X, y)\n",
        "\n",
        "# Make predictions\n",
        "predictions = perceptron.predict(X)\n",
        "print(\"Predictions:\", predictions)"
      ],
      "metadata": {
        "colab": {
          "base_uri": "https://localhost:8080/"
        },
        "id": "QMFxnhtLz0Hf",
        "outputId": "cdef3799-4a73-44ae-cf12-5fd69e17acb3"
      },
      "execution_count": null,
      "outputs": [
        {
          "output_type": "stream",
          "name": "stdout",
          "text": [
            "Predictions: [0 1 1 1]\n"
          ]
        }
      ]
    },
    {
      "cell_type": "markdown",
      "source": [
        "### XOR Gate\n",
        "This will fail, since XOR is not linearly separable"
      ],
      "metadata": {
        "id": "uBc6jrcNz_Dq"
      }
    },
    {
      "cell_type": "code",
      "source": [
        "# X - Features\n",
        "X = np.array([\n",
        "    [0, 0],\n",
        "    [0, 1],\n",
        "    [1, 0],\n",
        "    [1, 1]\n",
        "])\n",
        "# Targets: OR gate labels\n",
        "y = np.array([0, 1, 1, 0])\n",
        "\n",
        "# Create and train the perceptron\n",
        "perceptron = Perceptron(learning_rate=0.1, n_iterations=100)\n",
        "perceptron.fit(X, y)\n",
        "\n",
        "# Make predictions\n",
        "predictions = perceptron.predict(X)\n",
        "print(\"Predictions:\", predictions)"
      ],
      "metadata": {
        "colab": {
          "base_uri": "https://localhost:8080/"
        },
        "id": "fo43Hblpz_L6",
        "outputId": "b0f89f39-d37f-435f-c29c-2e292579a848"
      },
      "execution_count": null,
      "outputs": [
        {
          "output_type": "stream",
          "name": "stdout",
          "text": [
            "Predictions: [1 1 0 0]\n"
          ]
        }
      ]
    },
    {
      "cell_type": "markdown",
      "source": [
        "### A linear function: y=3x+2"
      ],
      "metadata": {
        "id": "9Ojb4ZC21Xmx"
      }
    },
    {
      "cell_type": "code",
      "source": [
        "# Generate training data\n",
        "def generate_training_data(n_samples=100):\n",
        "    np.random.seed(25)\n",
        "    X = np.random.uniform(-10, 10, (n_samples, 1))\n",
        "    # For y = 3x + 2, classify as 1 if point is above line, 0 if below\n",
        "    y = (3 * X + 2 + np.random.normal(0, 1, (n_samples, 1)) > 0).astype(int).ravel()\n",
        "    return X, y\n",
        "\n",
        "# Create and train the perceptron\n",
        "X_train, y_train = generate_training_data()\n",
        "perceptron = Perceptron(learning_rate=0.1, n_iterations=1000)\n",
        "perceptron.fit(X_train, y_train)\n",
        "\n",
        "# Generate 5 test cases and make predictions\n",
        "test_cases = np.array([-5, -2, 0, 3, 7]).reshape(-1, 1)  # Test x values\n",
        "predictions = perceptron.predict(test_cases)\n",
        "\n",
        "# Print results\n",
        "print(\"Testing the Perceptron:\")\n",
        "print(\"x\\tActual y\\tPredicted Class\\tInterpretation\")\n",
        "print(\"-\" * 50)\n",
        "for i, x in enumerate(test_cases):\n",
        "    actual_y = 3 * x + 2  # True line value\n",
        "    pred = predictions[i]\n",
        "    interpretation = \"Above\" if pred == 1 else \"Below\"\n",
        "    print(f\"{x[0]:.1f}\\t{actual_y[0]:.1f}\\t\\t{pred}\\t\\t{interpretation}\")\n",
        "\n",
        "# Print learned parameters\n",
        "print(\"\\nLearned parameters:\")\n",
        "print(f\"Weights: {perceptron.weights[0]:.3f}\")\n",
        "print(f\"Bias: {perceptron.bias:.3f}\")\n",
        "print(f\"Compare to target: y = 3x + 2\")"
      ],
      "metadata": {
        "colab": {
          "base_uri": "https://localhost:8080/"
        },
        "id": "TC2D_zts1X5n",
        "outputId": "83a235ec-e211-4416-acc0-1127f010a4aa"
      },
      "execution_count": null,
      "outputs": [
        {
          "output_type": "stream",
          "name": "stdout",
          "text": [
            "Testing the Perceptron:\n",
            "x\tActual y\tPredicted Class\tInterpretation\n",
            "--------------------------------------------------\n",
            "-5.0\t-13.0\t\t0\t\tBelow\n",
            "-2.0\t-4.0\t\t0\t\tBelow\n",
            "0.0\t2.0\t\t1\t\tAbove\n",
            "3.0\t11.0\t\t1\t\tAbove\n",
            "7.0\t23.0\t\t1\t\tAbove\n",
            "\n",
            "Learned parameters:\n",
            "Weights: 0.289\n",
            "Bias: 0.200\n",
            "Compare to target: y = 3x + 2\n"
          ]
        }
      ]
    }
  ]
}