{
  "nbformat": 4,
  "nbformat_minor": 0,
  "metadata": {
    "colab": {
      "provenance": []
    },
    "kernelspec": {
      "name": "python3",
      "display_name": "Python 3"
    },
    "language_info": {
      "name": "python"
    }
  },
  "cells": [
    {
      "cell_type": "markdown",
      "source": [
        "# Matrices & Tensors"
      ],
      "metadata": {
        "id": "6ZeXAjjDCvzG"
      }
    },
    {
      "cell_type": "markdown",
      "source": [
        "## Basic Matrix Operations"
      ],
      "metadata": {
        "id": "KTbaO00sCyw7"
      }
    },
    {
      "cell_type": "code",
      "source": [
        "import numpy as np\n",
        "\n",
        "# Create matrices\n",
        "A = np.array([[1, 2, 3],\n",
        "              [4, 5, 6]])\n",
        "B = np.array([[7, 8],\n",
        "              [9, 10],\n",
        "              [11, 12]])\n",
        "\n",
        "# Matrix multiplication\n",
        "C = np.dot(A, B)  # or A @ B in modern Python\n",
        "print(\"Matrix multiplication result:\")\n",
        "print(C)\n",
        "\n",
        "# Common operations in ML\n",
        "# Transpose\n",
        "print(\"\\nTranspose of A:\")\n",
        "print(A.T)\n",
        "\n",
        "# Matrix inverse\n",
        "square_matrix = np.array([[1, 2], [3, 4]])\n",
        "inverse = np.linalg.inv(square_matrix)\n",
        "print(\"\\nInverse of 2x2 matrix:\")\n",
        "print(inverse)\n",
        "\n",
        "# Eigenvalues and eigenvectors\n",
        "eigenvalues, eigenvectors = np.linalg.eig(square_matrix)\n",
        "print(\"\\nEigenvalues:\", eigenvalues)\n",
        "print(\"Eigenvectors:\\n\", eigenvectors)\n"
      ],
      "metadata": {
        "colab": {
          "base_uri": "https://localhost:8080/"
        },
        "id": "8SQbJNBGCw-g",
        "outputId": "1226c62b-3350-41d5-e09e-08fc7afbed65"
      },
      "execution_count": null,
      "outputs": [
        {
          "output_type": "stream",
          "name": "stdout",
          "text": [
            "Matrix multiplication result:\n",
            "[[ 58  64]\n",
            " [139 154]]\n",
            "\n",
            "Transpose of A:\n",
            "[[1 4]\n",
            " [2 5]\n",
            " [3 6]]\n",
            "\n",
            "Inverse of 2x2 matrix:\n",
            "[[-2.   1. ]\n",
            " [ 1.5 -0.5]]\n",
            "\n",
            "Eigenvalues: [-0.37228132  5.37228132]\n",
            "Eigenvectors:\n",
            " [[-0.82456484 -0.41597356]\n",
            " [ 0.56576746 -0.90937671]]\n"
          ]
        }
      ]
    },
    {
      "cell_type": "markdown",
      "source": [
        "## Features used in ML\n",
        "Pairwise distance calcuation (oftend used in clustering) & Feature *scaling*"
      ],
      "metadata": {
        "id": "G8G6VMHWCyYl"
      }
    },
    {
      "cell_type": "code",
      "source": [
        "# Example: Computing distances between points (used in k-means, KNN)\n",
        "points = np.array([[1, 2], [3, 4], [5, 6]])\n",
        "distances = np.sqrt(np.sum((points[:, np.newaxis] - points) ** 2, axis=2))\n",
        "print(\"\\nPairwise distances between points:\")\n",
        "print(distances)\n",
        "\n",
        "# Example: Feature scaling (common preprocessing step)\n",
        "features = np.array([[1, 1000],\n",
        "                    [2, 2000],\n",
        "                    [3, 3000]])\n",
        "mean = features.mean(axis=0)\n",
        "std = features.std(axis=0)\n",
        "scaled_features = (features - mean) / std\n",
        "print(\"\\nScaled features:\")\n",
        "print(scaled_features)\n"
      ],
      "metadata": {
        "colab": {
          "base_uri": "https://localhost:8080/"
        },
        "id": "uZltuH8RCv6k",
        "outputId": "7c6e7fe9-35c1-48e0-e4d5-b154f49a3364"
      },
      "execution_count": null,
      "outputs": [
        {
          "output_type": "stream",
          "name": "stdout",
          "text": [
            "\n",
            "Pairwise distances between points:\n",
            "[[0.         2.82842712 5.65685425]\n",
            " [2.82842712 0.         2.82842712]\n",
            " [5.65685425 2.82842712 0.        ]]\n",
            "\n",
            "Scaled features:\n",
            "[[-1.22474487 -1.22474487]\n",
            " [ 0.          0.        ]\n",
            " [ 1.22474487  1.22474487]]\n"
          ]
        }
      ]
    },
    {
      "cell_type": "markdown",
      "source": [
        "# Tensors"
      ],
      "metadata": {
        "id": "VNQy7dMmDxxv"
      }
    },
    {
      "cell_type": "markdown",
      "source": [
        "## Tensor Dimensions"
      ],
      "metadata": {
        "id": "_eJxUfpLD3GS"
      }
    },
    {
      "cell_type": "code",
      "source": [
        "# 0D Tensor (Scalar)\n",
        "scalar = np.array(25)\n",
        "print(\"0D Tensor (Scalar):\", scalar)\n",
        "\n",
        "# 1D Tensor (Vector)\n",
        "vector = np.array([1, 2, 3, 4])\n",
        "print(\"\\n1D Tensor (Vector):\", vector)\n",
        "\n",
        "# 2D Tensor (Matrix)\n",
        "matrix = np.array([[1, 2, 3],\n",
        "                  [4, 5, 6]])\n",
        "print(\"\\n2D Tensor (Matrix):\\n\", matrix)\n",
        "\n",
        "# 3D Tensor (Cube)\n",
        "cube = np.array([[[1, 2], [3, 4]],\n",
        "                 [[5, 6], [7, 8]]])\n",
        "print(\"\\n3D Tensor (Cube):\\n\", cube)\n"
      ],
      "metadata": {
        "colab": {
          "base_uri": "https://localhost:8080/"
        },
        "id": "5Pi0rToWDx6v",
        "outputId": "07b90438-c3d3-434f-e0a9-b79e8932ec80"
      },
      "execution_count": null,
      "outputs": [
        {
          "output_type": "stream",
          "name": "stdout",
          "text": [
            "0D Tensor (Scalar): 25\n",
            "\n",
            "1D Tensor (Vector): [1 2 3 4]\n",
            "\n",
            "2D Tensor (Matrix):\n",
            " [[1 2 3]\n",
            " [4 5 6]]\n",
            "\n",
            "3D Tensor (Cube):\n",
            " [[[1 2]\n",
            "  [3 4]]\n",
            "\n",
            " [[5 6]\n",
            "  [7 8]]]\n"
          ]
        }
      ]
    },
    {
      "cell_type": "markdown",
      "source": [
        "## Tensor Operations"
      ],
      "metadata": {
        "id": "RZVBdZ6uDyDG"
      }
    },
    {
      "cell_type": "code",
      "source": [
        "# Generate a batch of images example (4D tensor: batch_size x height x width x channels)\n",
        "batch_size, height, width, channels = 32, 28, 28, 3\n",
        "images = np.random.rand(batch_size, height, width, channels)\n",
        "\n",
        "# Reshaping tensors (common in ML pipelines)\n",
        "flattened = images.reshape(batch_size, -1)\n",
        "print(f\"\\nReshaped from {images.shape} to {flattened.shape}\")\n",
        "\n",
        "# Tensor slicing (extracting features)\n",
        "first_image = images[0]       # Get first image\n",
        "red_channel = images[..., 0]  # Get red channel for all images\n"
      ],
      "metadata": {
        "colab": {
          "base_uri": "https://localhost:8080/"
        },
        "id": "Sa8FK0htDyLK",
        "outputId": "e111b1a1-0a92-4210-9b16-99b1e5c5aed0"
      },
      "execution_count": null,
      "outputs": [
        {
          "output_type": "stream",
          "name": "stdout",
          "text": [
            "\n",
            "Reshaped from (32, 28, 28, 3) to (32, 2352)\n"
          ]
        }
      ]
    }
  ]
}