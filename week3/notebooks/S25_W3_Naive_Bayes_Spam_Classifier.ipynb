{
  "nbformat": 4,
  "nbformat_minor": 0,
  "metadata": {
    "colab": {
      "provenance": []
    },
    "kernelspec": {
      "name": "python3",
      "display_name": "Python 3"
    },
    "language_info": {
      "name": "python"
    }
  },
  "cells": [
    {
      "cell_type": "markdown",
      "source": [
        "# Naive Bayes Spam Classifier"
      ],
      "metadata": {
        "id": "FfEK8489Daoh"
      }
    },
    {
      "cell_type": "markdown",
      "source": [
        "# Naive Bayes Spam Classifier"
      ],
      "metadata": {
        "id": "JbSHwFg2SLrj"
      }
    },
    {
      "cell_type": "code",
      "source": [
        "class NaiveBayesClassifier:\n",
        "    def __init__(self, data):\n",
        "        \"\"\"Set up the classifier with training data.\"\"\"\n",
        "        self.data = data\n",
        "        self.total_emails = len(data)\n",
        "\n",
        "        # Count spam and non-spam emails\n",
        "        self.spam_count = 0\n",
        "        self.not_spam_count = 0\n",
        "        for email in data:\n",
        "            if email['Spam'] == 'Yes':\n",
        "                self.spam_count += 1\n",
        "            else:\n",
        "                self.not_spam_count += 1\n",
        "\n",
        "        # Calculate prior probabilities\n",
        "        self.p_spam_yes = self.spam_count / self.total_emails\n",
        "        self.p_spam_no = self.not_spam_count / self.total_emails\n",
        "\n",
        "    def calc_likelihood(self, word, value, spam_label):\n",
        "        \"\"\"Figure out how likely a word is in spam or non-spam emails.\"\"\"\n",
        "        # Count how many emails match our word and spam label\n",
        "        matching_count = 0\n",
        "        for email in self.data:\n",
        "            # Check if this email has the word=value AND the right spam label\n",
        "            if email[word] == value and email['Spam'] == spam_label:\n",
        "                matching_count += 1\n",
        "\n",
        "        # Decide total based on spam or non-spam\n",
        "        if spam_label == \"Yes\":\n",
        "            total_emails_in_group = self.spam_count\n",
        "        else:\n",
        "            total_emails_in_group = self.not_spam_count\n",
        "\n",
        "        # Use Laplace smoothing: add 1 to count and 2 to total\n",
        "        smoothed_count = matching_count + 1\n",
        "        smoothed_total = total_emails_in_group + 2\n",
        "\n",
        "        # Calculate the probability\n",
        "        probability = smoothed_count / smoothed_total\n",
        "        return probability\n",
        "\n",
        "    def predict(self, email):\n",
        "        \"\"\"Guess if a new email is spam or not.\"\"\"\n",
        "        # Start with the basic chances of spam or not\n",
        "        spam_yes_score = self.p_spam_yes\n",
        "        spam_no_score = self.p_spam_no\n",
        "\n",
        "        # Check each word and update scores\n",
        "        words_to_check = ['Hot', 'Money', 'Free']\n",
        "        for word in words_to_check:\n",
        "            # Get the value of this word in the new email (Yes or No)\n",
        "            word_value = email[word]\n",
        "            # Multiply by the likelihood for spam and non-spam\n",
        "            spam_yes_score = spam_yes_score * self.calc_likelihood(word, word_value, 'Yes')\n",
        "            spam_no_score = spam_no_score * self.calc_likelihood(word, word_value, 'No')\n",
        "\n",
        "        # Show the scores\n",
        "        print(f\"Spam Yes Score: {spam_yes_score:.4f}\")\n",
        "        print(f\"Spam No Score: {spam_no_score:.4f}\")\n",
        "\n",
        "        # Decide which is more likely\n",
        "        if spam_yes_score > spam_no_score:\n",
        "            return \"Spam\"\n",
        "        else:\n",
        "            return \"Not Spam\""
      ],
      "metadata": {
        "id": "cQ72XztaN4ql"
      },
      "execution_count": null,
      "outputs": []
    },
    {
      "cell_type": "code",
      "source": [],
      "metadata": {
        "id": "Bw9v69ccZAUu"
      },
      "execution_count": null,
      "outputs": []
    },
    {
      "cell_type": "markdown",
      "source": [
        "### Test it out"
      ],
      "metadata": {
        "id": "Ha3h6pCCN8dp"
      }
    },
    {
      "cell_type": "code",
      "source": [
        "# Training data\n",
        "data = [\n",
        "    {'Hot': 'No',  'Money': 'Yes', 'Free': 'Yes', 'Spam': 'Yes'},\n",
        "    {'Hot': 'Yes', 'Money': 'No',  'Free': 'No',  'Spam': 'Yes'},\n",
        "    {'Hot': 'No',  'Money': 'Yes', 'Free': 'Yes', 'Spam': 'No'},\n",
        "    {'Hot': 'Yes', 'Money': 'Yes', 'Free': 'No',  'Spam': 'Yes'},\n",
        "    {'Hot': 'No',  'Money': 'Yes', 'Free': 'Yes', 'Spam': 'No'}\n",
        "]\n",
        "\n",
        "# Create and train the classifier\n",
        "classifier = NaiveBayesClassifier(data)\n",
        "\n",
        "# Test it with a new email\n",
        "test_email = {'Hot': 'Yes', 'Money': 'No', 'Free': 'Yes'}\n",
        "prediction = classifier.predict(test_email)\n",
        "print(f\"Prediction: {prediction}\")\n",
        "\n",
        "# Try another test\n",
        "test_email2 = {'Hot': 'No', 'Money': 'Yes', 'Free': 'No'}\n",
        "prediction2 = classifier.predict(test_email2)\n",
        "print(f\"Prediction: {prediction2}\")\n",
        "\n",
        "# Try another test\n",
        "test_email3 = {'Hot': 'Yes', 'Money': 'Yes', 'Free': 'No'}\n",
        "prediction3 = classifier.predict(test_email3)\n",
        "print(f\"Prediction: {prediction2}\")\n"
      ],
      "metadata": {
        "colab": {
          "base_uri": "https://localhost:8080/"
        },
        "id": "xRbR0E2PN8oa",
        "outputId": "2fc3d683-88fc-43f6-b5aa-108f36760a1e"
      },
      "execution_count": null,
      "outputs": [
        {
          "output_type": "stream",
          "name": "stdout",
          "text": [
            "Spam Yes Score: 0.0576\n",
            "Spam No Score: 0.0188\n",
            "Prediction: Spam\n",
            "Spam Yes Score: 0.0864\n",
            "Spam No Score: 0.0563\n",
            "Prediction: Spam\n",
            "Spam Yes Score: 0.1296\n",
            "Spam No Score: 0.0188\n",
            "Prediction: Spam\n"
          ]
        }
      ]
    }
  ]
}