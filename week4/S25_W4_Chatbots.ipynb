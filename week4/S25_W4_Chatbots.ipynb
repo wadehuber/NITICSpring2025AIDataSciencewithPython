{
  "nbformat": 4,
  "nbformat_minor": 0,
  "metadata": {
    "colab": {
      "provenance": []
    },
    "kernelspec": {
      "name": "python3",
      "display_name": "Python 3"
    },
    "language_info": {
      "name": "python"
    }
  },
  "cells": [
    {
      "cell_type": "markdown",
      "source": [
        "# Chatbots"
      ],
      "metadata": {
        "id": "ZkxngRAvHMfk"
      }
    },
    {
      "cell_type": "markdown",
      "source": [
        "## A Simple Rule-based Chatbot"
      ],
      "metadata": {
        "id": "NRlBneskHMhq"
      }
    },
    {
      "cell_type": "code",
      "execution_count": null,
      "metadata": {
        "colab": {
          "base_uri": "https://localhost:8080/"
        },
        "id": "ND32-exIHLA2",
        "outputId": "55726832-34e0-419c-8f8a-55f6b1ca7875"
      },
      "outputs": [
        {
          "metadata": {
            "tags": null
          },
          "name": "stdout",
          "output_type": "stream",
          "text": [
            "Welcome to the Chatbot! Type 'bye' to exit.\n"
          ]
        }
      ],
      "source": [
        "# Simple rule-based chatbot with a conversation loop\n",
        "def chatbot_response(user_input):\n",
        "    # Convert input to lowercase for easier matching\n",
        "    user_input = user_input.lower()\n",
        "\n",
        "    # Define rules and responses\n",
        "    if \"hello\" in user_input or \"hi\" in user_input:\n",
        "        return \"Greetings! How can I assist you today?\"\n",
        "    elif \"time\" in user_input:\n",
        "        from datetime import datetime\n",
        "        return f\"The current time is {datetime.now().strftime('%H:%M:%S')}.\"\n",
        "    elif \"weather\" in user_input:\n",
        "        return \"I’m not connected to a weather API yet, but it’s sunny in my digital world!\"\n",
        "    elif \"bye\" in user_input:\n",
        "        return \"Goodbye! Chat with me again soon.\"\n",
        "    else:\n",
        "        return \"Hmm, I don’t understand. Try asking something else!\"\n",
        "\n",
        "# Main loop to keep the chatbot running\n",
        "print(\"Welcome to the Chatbot! Type 'bye' to exit.\")\n",
        "while True:\n",
        "    user_input = input(\"You: \")\n",
        "    response = chatbot_response(user_input)\n",
        "    print(f\"Bot: {response}\")\n",
        "    if \"bye\" in user_input.lower():\n",
        "        break"
      ]
    },
    {
      "cell_type": "markdown",
      "source": [
        "## Chatbot with Intent Recognition"
      ],
      "metadata": {
        "id": "c1uivraKHpkY"
      }
    },
    {
      "cell_type": "code",
      "source": [
        "from transformers import pipeline\n",
        "\n",
        "# Load a pre-trained model for text classification (e.g., sentiment as a proxy for intent)\n",
        "classifier = pipeline(\"sentiment-analysis\", model=\"distilbert-base-uncased-finetuned-sst-2-english\")\n",
        "\n",
        "# Simple intent mapping function\n",
        "def chatbot_with_nlp(user_input):\n",
        "    # Classify the sentiment/intent of the input\n",
        "    result = classifier(user_input)[0]\n",
        "    label = result[\"label\"]  # e.g., \"POSITIVE\" or \"NEGATIVE\"\n",
        "    confidence = result[\"score\"]\n",
        "\n",
        "    # Map sentiment to chatbot responses (simplified intent recognition)\n",
        "    if \"weather\" in user_input.lower():\n",
        "        return \"I’d love to check the weather, but I need an API for that!\"\n",
        "    elif label == \"POSITIVE\":\n",
        "        return \"Glad you’re feeling good! How can I help?\"\n",
        "    elif label == \"NEGATIVE\":\n",
        "        return \"Sorry you’re upset. What’s on your mind?\"\n",
        "    else:\n",
        "        return \"I’m not sure what you mean. Ask me something else!\"\n",
        "\n",
        "# Test the chatbot\n",
        "print(\"Chatbot with NLP ready! Type your message:\")\n",
        "while True:\n",
        "    user_input = input(\"You: \")\n",
        "    response = chatbot_with_nlp(user_input)\n",
        "    print(f\"Bot: {response}\")\n",
        "    if \"bye\" in user_input.lower():\n",
        "        break"
      ],
      "metadata": {
        "id": "oPk_UxfzHprS"
      },
      "execution_count": null,
      "outputs": []
    },
    {
      "cell_type": "markdown",
      "source": [
        "## Agentic Chatbot with Task Execution"
      ],
      "metadata": {
        "id": "DF9pqf-_Jn4H"
      }
    },
    {
      "cell_type": "code",
      "source": [
        "import re\n",
        "\n",
        "# Agentic chatbot that performs simple calculations\n",
        "def agentic_chatbot(user_input):\n",
        "    user_input = user_input.lower()\n",
        "\n",
        "    # Check for greetings or exit\n",
        "    if \"hello\" in user_input:\n",
        "        return \"Hi! I can do math for you. Try 'add 5 and 3' or 'multiply 4 by 2'.\"\n",
        "    elif \"bye\" in user_input:\n",
        "        return \"See you later!\"\n",
        "\n",
        "    # Use regex to detect math-related intents\n",
        "    add_match = re.search(r\"add (\\d+) and (\\d+)\", user_input)\n",
        "    multiply_match = re.search(r\"multiply (\\d+) by (\\d+)\", user_input)\n",
        "\n",
        "    if add_match:\n",
        "        num1, num2 = int(add_match.group(1)), int(add_match.group(2))\n",
        "        return f\"The sum of {num1} and {num2} is {num1 + num2}.\"\n",
        "    elif multiply_match:\n",
        "        num1, num2 = int(multiply_match.group(1)), int(multiply_match.group(2))\n",
        "        return f\"The product of {num1} and {num2} is {num1 * num2}.\"\n",
        "    else:\n",
        "        return \"I can only add or multiply numbers. Try something like 'add 5 and 3'.\"\n",
        "\n",
        "# Run the chatbot\n",
        "print(\"Agentic Math Chatbot: Ask me to add or multiply numbers!\")\n",
        "while True:\n",
        "    user_input = input(\"You: \")\n",
        "    response = agentic_chatbot(user_input)\n",
        "    print(f\"Bot: {response}\")\n",
        "    if \"bye\" in user_input.lower():\n",
        "        break"
      ],
      "metadata": {
        "id": "6VjONtRcJoFp"
      },
      "execution_count": null,
      "outputs": []
    },
    {
      "cell_type": "markdown",
      "source": [
        "## Chatbot with Safety Filter"
      ],
      "metadata": {
        "id": "U0wtEaUbJ4Ea"
      }
    },
    {
      "cell_type": "code",
      "source": [
        "# Chatbot with a simple safety filter\n",
        "def safe_chatbot(user_input):\n",
        "    # Define blocked words (for demonstration)\n",
        "    blocked_words = [\"hate\", \"stupid\", \"idiot\"]\n",
        "\n",
        "    # Check for blocked content\n",
        "    for word in blocked_words:\n",
        "        if word in user_input.lower():\n",
        "            return \"I’m sorry, but I can’t respond to that. Let’s keep it friendly!\"\n",
        "\n",
        "    # Normal responses\n",
        "    if \"help\" in user_input.lower():\n",
        "        return \"I’m here to assist! What do you need help with?\"\n",
        "    elif \"joke\" in user_input.lower():\n",
        "        return \"Why don’t programmers prefer dark mode? Because the light attracts bugs!\"\n",
        "    else:\n",
        "        return \"Tell me more! I can help or tell a joke.\"\n",
        "\n",
        "# Test the chatbot\n",
        "print(\"Safe Chatbot: Ask for help or a joke!\")\n",
        "while True:\n",
        "    user_input = input(\"You: \")\n",
        "    response = safe_chatbot(user_input)\n",
        "    print(f\"Bot: {response}\")\n",
        "    if \"bye\" in user_input.lower():\n",
        "        break"
      ],
      "metadata": {
        "id": "p6HhrJC0J4OD"
      },
      "execution_count": null,
      "outputs": []
    }
  ]
}